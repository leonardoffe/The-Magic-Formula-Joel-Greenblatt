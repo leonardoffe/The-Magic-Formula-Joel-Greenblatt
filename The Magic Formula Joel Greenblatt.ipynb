{
 "cells": [
  {
   "cell_type": "markdown",
   "metadata": {},
   "source": [
    "# The Magic Formula - Joel Greenblatt"
   ]
  },
  {
   "cell_type": "markdown",
   "metadata": {},
   "source": [
    "## Importando as Biblotecas"
   ]
  },
  {
   "cell_type": "code",
   "execution_count": null,
   "metadata": {},
   "outputs": [],
   "source": [
    "import numpy as np\n",
    "import pandas as pd\n",
    "import string\n",
    "import warnings\n",
    "import requests\n",
    "warnings.filterwarnings('ignore')"
   ]
  },
  {
   "cell_type": "markdown",
   "metadata": {},
   "source": [
    "## Coleta e Tratamento de Dados"
   ]
  },
  {
   "cell_type": "code",
   "execution_count": 44,
   "metadata": {},
   "outputs": [],
   "source": [
    "url = 'http://www.fundamentus.com.br/resultado.php'"
   ]
  },
  {
   "cell_type": "code",
   "execution_count": 45,
   "metadata": {},
   "outputs": [],
   "source": [
    "data = pd.read_html(r.text,  decimal=',', thousands='.')[0]\n",
    "\n",
    "for coluna in ['Div.Yield', 'Mrg Ebit', 'Mrg. Líq.', 'ROIC', 'ROE', 'Cresc. Rec.5a']:\n",
    "    data[coluna] = data[coluna].str.replace('.', '')\n",
    "    data[coluna] = data[coluna].str.replace(',', '.')\n",
    "    data[coluna] = data[coluna].str.rstrip('%').astype('float') / 100 # tirar a porcentacem "
   ]
  },
  {
   "cell_type": "code",
   "execution_count": 46,
   "metadata": {},
   "outputs": [],
   "source": [
    "data = data[data['Liq.2meses'] > 1000000] # apenas empresas com liquidez"
   ]
  },
  {
   "cell_type": "markdown",
   "metadata": {},
   "source": [
    "## Manipulação do DataFrame"
   ]
  },
  {
   "cell_type": "code",
   "execution_count": 106,
   "metadata": {},
   "outputs": [],
   "source": [
    "ranking = pd.DataFrame() # cria um data frame\n",
    "ranking['Posição'] = range(1,151)\n",
    "ranking['EV/EBIT'] = data[data['EV/EBIT'] > 0].sort_values(by=['EV/EBIT'])['Papel'][:150].values\n",
    "ranking['ROIC'] = data[data['ROIC'] <= 50].sort_values(by=['ROIC'], ascending=False)['Papel'][:150].values\n",
    "ranking['P/L'] = data[data['P/L'] > 0].sort_values(by=['P/L'])['Papel'][:150].values"
   ]
  },
  {
   "cell_type": "code",
   "execution_count": 107,
   "metadata": {},
   "outputs": [],
   "source": [
    "a = ranking.pivot_table(columns='EV/EBIT', values='Posição')\n",
    "b = ranking.pivot_table(columns='ROIC', values='Posição')\n",
    "c = ranking.pivot_table(columns='P/L', values='Posição')\n",
    "d = pd.concat([a,b,c])"
   ]
  },
  {
   "cell_type": "markdown",
   "metadata": {},
   "source": [
    "## Resultado da Fórmula"
   ]
  },
  {
   "cell_type": "code",
   "execution_count": 108,
   "metadata": {},
   "outputs": [
    {
     "data": {
      "text/plain": [
       "INEP3     5\n",
       "SYNE3    20\n",
       "BRKM5    30\n",
       "USIM3    32\n",
       "USIM5    34\n",
       "GOAU3    38\n",
       "FHER3    39\n",
       "GOAU4    40\n",
       "ETER3    44\n",
       "VALE3    45\n",
       "CSNA3    45\n",
       "MRFG3    49\n",
       "GGBR3    50\n",
       "GGBR4    57\n",
       "PLPL3    59\n",
       "dtype: int64"
      ]
     },
     "execution_count": 108,
     "metadata": {},
     "output_type": "execute_result"
    }
   ],
   "source": [
    "rank = d.dropna(axis=1).sum()\n",
    "rank.sort_values()[:15]"
   ]
  },
  {
   "cell_type": "code",
   "execution_count": null,
   "metadata": {},
   "outputs": [],
   "source": []
  }
 ],
 "metadata": {
  "kernelspec": {
   "display_name": "Python 3",
   "language": "python",
   "name": "python3"
  },
  "language_info": {
   "codemirror_mode": {
    "name": "ipython",
    "version": 3
   },
   "file_extension": ".py",
   "mimetype": "text/x-python",
   "name": "python",
   "nbconvert_exporter": "python",
   "pygments_lexer": "ipython3",
   "version": "3.7.4"
  }
 },
 "nbformat": 4,
 "nbformat_minor": 2
}
